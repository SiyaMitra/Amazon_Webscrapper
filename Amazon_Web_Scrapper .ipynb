{
 "cells": [
  {
   "cell_type": "markdown",
   "id": "1f1e2501",
   "metadata": {},
   "source": [
    "#Installing Beautifulsoup\n",
    "\n",
    "! pip install beautifulsoup4\n"
   ]
  },
  {
   "cell_type": "markdown",
   "id": "f28345ed",
   "metadata": {},
   "source": []
  },
  {
   "cell_type": "code",
   "execution_count": 9,
   "id": "487f0738",
   "metadata": {},
   "outputs": [],
   "source": [
    "# Import Libraries\n",
    "\n",
    "\n",
    "from bs4 import BeautifulSoup\n",
    "import requests\n",
    "import time\n",
    "import datetime\n",
    "import pandas as pd\n",
    "import string\n",
    "import csv #In a  csv two things are needed - Headers & Data\n",
    "from contextlib import contextmanager\n",
    "\n",
    "\n",
    "import smtplib"
   ]
  },
  {
   "cell_type": "code",
   "execution_count": 10,
   "id": "c1490dc5",
   "metadata": {
    "scrolled": true
   },
   "outputs": [
    {
     "name": "stdout",
     "output_type": "stream",
     "text": [
      "\n",
      "              RIBADIYA BROTHERS KGF Lehenga Choli Black Bollywood Style Designer Ready to Wear for Women for Wedding, Party lehenga. Bridesmaid India\n",
      "             \n",
      "<span class=\"a-price-whole\">2,188<span class=\"a-price-decimal\">.</span></span>\n"
     ]
    }
   ],
   "source": [
    "#Connect to Website\n",
    "\n",
    "URL = 'https://www.amazon.in/RIBADIYA-BROTHERS-Bollywood-Designer-Bridesmaid/dp/B0BCWGBKNV/ref=sr_1_14?keywords=indian+lehenga+for+women+ready+to+wear&qid=1677745253&sprefix=Lahenga%2Caps%2C760&sr=8-14'\n",
    "\n",
    "\n",
    "# To copy header use link - http://httpbin.org/get\n",
    "\n",
    "headers= {\"User-Agent\": \"Mozilla/5.0 (Windows NT 10.0; Win64; x64) AppleWebKit/537.36 (KHTML, like Gecko) Chrome/110.0.0.0 Safari/537.36 Edg/110.0.1587.57\", \n",
    "    \"X-Amzn-Trace-Id\": \"Root=1-6400593b-1653dcd268a19de62801b7ef\"}\n",
    "\n",
    "Page =  requests.get(URL, headers=headers)\n",
    "\n",
    "Soup1 = BeautifulSoup(Page.content, 'html.parser')\n",
    "\n",
    "Soup2 = BeautifulSoup(Soup1.prettify(), 'html.parser')\n",
    "\n",
    "Title = Soup2.find(id='productTitle').get_text()\n",
    "\n",
    "\n",
    "# To find elements having class\n",
    "\n",
    "Price = Soup1.find(\"span\",{\"class\":\"a-price-whole\"}) #This is the class of the New title kinda thing\n",
    "\n",
    "\n",
    "print(Title)\n",
    "print(Price)\n",
    "\n",
    "\n",
    "\n",
    "\n",
    "\n"
   ]
  },
  {
   "cell_type": "code",
   "execution_count": 11,
   "id": "dba04212",
   "metadata": {},
   "outputs": [
    {
     "name": "stdout",
     "output_type": "stream",
     "text": [
      "<class 'bs4.element.Tag'>\n",
      "<class 'str'>\n",
      "<span class=\"a-price-whole\">2,188<span class=\"a-price-decimal\">.</span></span>\n",
      "['', 'span class=\"a-price-whole\">2,188', 'span class=\"a-price-decimal\">.', '/span>', '/span>']\n",
      "span class=\"a-price-whole\">2,188\n",
      "['span class=\"a-price-whole\"', '2,188']\n",
      "2,188\n"
     ]
    }
   ],
   "source": [
    "print(type(Price))#.attrs)\n",
    "print(type(str(Price)))\n",
    "price1 = str(Price)\n",
    "print(price1)\n",
    "print(price1.split('<'))\n",
    "print(price1.split('<')[1])\n",
    "print(price1.split('<')[1].split('>'))\n",
    "\n",
    "\n",
    "# To strip only the price from 'Price'\n",
    "print(price1.split('<')[1].split('>')[1])\n",
    "\n",
    "\n",
    "\n"
   ]
  },
  {
   "cell_type": "code",
   "execution_count": 12,
   "id": "f8aff8d0",
   "metadata": {
    "scrolled": false
   },
   "outputs": [
    {
     "name": "stdout",
     "output_type": "stream",
     "text": [
      "RIBADIYA BROTHERS KGF Lehenga Choli Black Bollywood Style Designer Ready to Wear for Women for Wedding, Party lehenga. Bridesmaid India\n",
      "2,188\n"
     ]
    }
   ],
   "source": [
    "#To structure the Data\n",
    "\n",
    "Title = Title.strip()\n",
    "\n",
    "price1 = price1.split('<')[1].split('>')[1]\n",
    "\n",
    "Price1 = price1\n",
    "\n",
    "print(Title)\n",
    "print(Price1)"
   ]
  },
  {
   "cell_type": "code",
   "execution_count": 13,
   "id": "c34c2025",
   "metadata": {},
   "outputs": [
    {
     "name": "stdout",
     "output_type": "stream",
     "text": [
      "2023-05-29\n"
     ]
    }
   ],
   "source": [
    "Today = datetime.date.today()\n",
    "print(Today)\n"
   ]
  },
  {
   "cell_type": "code",
   "execution_count": 14,
   "id": "0685a8c8",
   "metadata": {},
   "outputs": [],
   "source": [
    "#Creation of CSV file\n",
    "\n",
    "Headers = ['Title', 'Price1', 'Date']\n",
    "Data = [Title, Price1, Today]\n",
    "\n",
    " \n",
    "#here 'w' means 'Write' & 'newline' means when inserting new data it doesn't have the space btwn each csv. \n",
    "with open ('Amazon Web Scrapper Dataset.csv','w', newline='',encoding= 'UTF8') as f:\n",
    "    csv_f = csv.writer(f)\n",
    "    csv_f.writerow(Headers)\n",
    "    csv_f.writerow(Data)\n"
   ]
  },
  {
   "cell_type": "code",
   "execution_count": 8,
   "id": "3c44c0fa",
   "metadata": {},
   "outputs": [
    {
     "name": "stdout",
     "output_type": "stream",
     "text": [
      "                                               Title Price1        Date\n",
      "0  RIBADIYA BROTHERS KGF Lehenga Choli Black Boll...  2,188  2023-05-29\n"
     ]
    }
   ],
   "source": [
    "# Reading Data_Frame through pandas\n",
    "\n",
    "# df = pd.read_csv(r'C:\\Users\\Sayani Mitra\\Desktop\\Board Infinity\\My Own Projects\\Amazon Web Scrapping\\Amazon Web Scrapper Dataset.csv')\n",
    "df = pd.read_csv('Amazon Web Scrapper Dataset.csv')\n",
    "print(df)"
   ]
  },
  {
   "cell_type": "code",
   "execution_count": 15,
   "id": "49a35b5d",
   "metadata": {},
   "outputs": [],
   "source": [
    "#How to append Data to the CSV file\n",
    "\n",
    "# Here 'a+' means 'Appending Data'\n",
    "with open ('Amazon Web Scrapper Dataset.csv','a+', newline='',encoding= 'UTF8') as f:\n",
    "    csv_f = csv.writer(f)\n",
    "    csv_f.writerow(Data)\n",
    "    "
   ]
  },
  {
   "cell_type": "code",
   "execution_count": 16,
   "id": "7e319ad6",
   "metadata": {},
   "outputs": [],
   "source": [
    "#How to automate the collection of Data\n",
    "def check_details():\n",
    "    \n",
    "#Connect to Website\n",
    "    \n",
    "    URL = 'https://www.amazon.in/RIBADIYA-BROTHERS-Bollywood-Designer-Bridesmaid/dp/B0BCWGBKNV/ref=sr_1_14?keywords=indian+lehenga+for+women+ready+to+wear&qid=1677745253&sprefix=Lahenga%2Caps%2C760&sr=8-14'\n",
    "\n",
    "    headers= {\"User-Agent\": \"Mozilla/5.0 (Windows NT 10.0; Win64; x64) AppleWebKit/537.36 (KHTML, like Gecko) Chrome/110.0.0.0 Safari/537.36 Edg/110.0.1587.57\", \n",
    "    \"X-Amzn-Trace-Id\": \"Root=1-6400593b-1653dcd268a19de62801b7ef\"}\n",
    "\n",
    "    Page =  requests.get(URL, headers=headers)\n",
    "\n",
    "    Soup1 = BeautifulSoup(Page.content, 'html.parser')\n",
    "\n",
    "    Soup2 = BeautifulSoup(Soup1.prettify(), 'html.parser')\n",
    "\n",
    "    Title = Soup2.find(id='productTitle').get_text()\n",
    "\n",
    "\n",
    "# To find elements having class\n",
    "\n",
    "    Price = Soup1.find(\"span\",{\"class\":\"a-price-whole\"}) #This is the class of the New title kinda thing\n",
    "\n",
    "#To structure the Title\n",
    "\n",
    "    Title = Title.strip()\n",
    "\n",
    "#To structure the Title\n",
    "    \n",
    "    print(type(str(Price)))\n",
    "    Price1 = str(Price)\n",
    "    Price1 = Price.split('<')[1].split('>')[1]\n",
    "    \n",
    "#Creating Variable for  'Collection_Date' column\n",
    "\n",
    "    Today = datetime.date.today()\n",
    "    \n",
    "#Creation of CSV file\n",
    "    \n",
    "    Headers = ['Title', 'Price1', 'Collection_Date']\n",
    "    Data = [Title, Price1, Today]    \n",
    "    with open ('Amazon Web Scrapper Dataset.csv','a+', newline='',encoding= 'UTF8') as f:\n",
    "        csv_f = csv.writer(f)\n",
    "        csv_f.writerow(Data)\n",
    "    \n",
    "    "
   ]
  }
 ],
 "metadata": {
  "kernelspec": {
   "display_name": "Python 3 (ipykernel)",
   "language": "python",
   "name": "python3"
  },
  "language_info": {
   "codemirror_mode": {
    "name": "ipython",
    "version": 3
   },
   "file_extension": ".py",
   "mimetype": "text/x-python",
   "name": "python",
   "nbconvert_exporter": "python",
   "pygments_lexer": "ipython3",
   "version": "3.9.13"
  },
  "toc": {
   "base_numbering": 1,
   "nav_menu": {},
   "number_sections": true,
   "sideBar": true,
   "skip_h1_title": false,
   "title_cell": "Table of Contents",
   "title_sidebar": "Contents",
   "toc_cell": false,
   "toc_position": {
    "height": "calc(100% - 180px)",
    "left": "10px",
    "top": "150px",
    "width": "273.188px"
   },
   "toc_section_display": true,
   "toc_window_display": true
  }
 },
 "nbformat": 4,
 "nbformat_minor": 5
}
